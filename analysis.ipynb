{
 "cells": [
  {
   "cell_type": "markdown",
   "id": "34c80ae2-9929-439f-bfd4-79722d664fe4",
   "metadata": {},
   "source": [
    "## **Análise do Notebook de Segmentação de Clientes**\n",
    "\n",
    "Este notebook apresenta um desafio de segmentação de clientes utilizando técnicas de agrupamento hierárquico. O objetivo principal é analisar dados de comportamento de compra de clientes de um e-commerce e segmentá-los em grupos com características similares para direcionar campanhas de marketing mais eficazes.\n",
    "\n",
    "### **Contexto do Projeto**\n",
    "O projeto simula um cenário onde você trabalha no setor de marketing de uma empresa de e-commerce e recebeu uma base de dados contendo informações sobre o comportamento de compra dos clientes. A base de dados utilizada é o Mall_Customers.csv, que contém as seguintes colunas:\n",
    "\n",
    "- `CustomerID` : identificador único do cliente\n",
    "- `Gender` : gênero do cliente\n",
    "- `Age` : idade do cliente\n",
    "- `Annual Income (k$)` : renda anual em milhares de dólares\n",
    "- `Spending Score (1-100)` : índice de gastos baseado no comportamento e histórico de compras\n",
    "\n",
    "O objetivo é aplicar técnicas de agrupamento hierárquico para identificar padrões naturais nos dados e segmentar os clientes em grupos distintos, permitindo estratégias de marketing personalizadas para cada segmento.\n",
    "Estrutura do Notebook\n",
    "\n",
    "O notebook está organizado nas seguintes seções principais:\n",
    "\n",
    "- Importação de Bibliotecas: Carregamento das bibliotecas necessárias para análise de dados e visualização\n",
    "- Carregamento e Exploração dos Dados: Leitura do arquivo CSV e visualização inicial dos dados\n",
    "- Limpeza e Tratamento de Outliers: Detecção e tratamento de valores atípicos nas variáveis alvo\n",
    "- Preparação dos Dados para Agrupamento: Normalização e transformação dos dados\n",
    "- Análise de Agrupamento Hierárquico: Aplicação do algoritmo de agrupamento e visualização dos resultados\n",
    "- Interpretação dos Segmentos: Análise e caracterização dos grupos identificados.\n",
    "- Estratégias de Marketing Baseadas em Segmentação: Explora como utilizar os resultados da segmentação de clientes para desenvolver estratégias de marketing personalizadas e eficazes para cada grupo identificado.\n",
    "\n",
    "Este notebook demonstra um fluxo de trabalho completo para segmentação de clientes, desde a preparação dos dados até a interpretação dos resultados finais."
   ]
  },
  {
   "cell_type": "markdown",
   "id": "2de8d363-d693-4176-a88c-aafc705aceac",
   "metadata": {},
   "source": [
    "### **Seção 1: Importação de Bibliotecas**\n",
    "Nesta seção inicial, o notebook importa as bibliotecas necessárias para realizar a análise de segmentação de clientes. Vamos entender o que cada biblioteca faz:"
   ]
  },
  {
   "cell_type": "code",
   "execution_count": 31,
   "id": "ab523198-cf66-41bd-a324-a8f7f4fbc8b0",
   "metadata": {},
   "outputs": [],
   "source": [
    "#Importação das bibliotecas necessárias bem como desativar os avisos (Warnings)\n",
    "import pandas as pd\n",
    "import seaborn as sn\n",
    "import estatistica as st\n",
    "from scipy.stats import zscore\n",
    "import warnings\n",
    "warnings.filterwarnings(\"ignore\", category=UserWarning)\n",
    "warnings.filterwarnings(\"ignore\", category=FutureWarning)"
   ]
  },
  {
   "cell_type": "markdown",
   "id": "b56a7969-1cbe-41b5-8b0d-8fa75c2b0bec",
   "metadata": {},
   "source": [
    "### Explicação das bibliotecas utilizadas:\n",
    "\n",
    "- **pandas (pd)** : Biblioteca fundamental para manipulação e análise de dados, utilizada para carregar, transformar e analisar o conjunto de dados dos clientes.\n",
    "- **seaborn (sn)** : Biblioteca de visualização de dados baseada em matplotlib, utilizada para criar gráficos estatísticos informativos, como os boxplots para detecção de outliers.\n",
    "- **estatistica (st)** : Parece ser um módulo personalizado que contém funções estatísticas específicas para este projeto, como o teste de normalidade Kolmogorov-Smirnov utilizado posteriormente.\n",
    "- **scipy.stats.zscore** : Função para calcular o z-score (padronização) dos dados, transformando-os para que tenham média 0 e desvio padrão 1, o que é importante para o algoritmo de agrupamento.\n",
    "- **warnings** : Módulo para controlar mensagens de aviso. Neste caso, os avisos são desativados para manter a saída do notebook limpa e focada nos resultados principais.\n",
    "\n",
    "A desativação dos avisos (warnings) é uma prática comum quando se trabalha com bibliotecas que podem gerar muitos avisos que não são críticos para a análise, como avisos de depreciação ou mudanças futuras em APIs.\n",
    "\n",
    "### **Seção 2: Carregamento e Exploração dos Dados**\n",
    "Nesta seção, o notebook realiza o carregamento dos dados do arquivo CSV e faz uma exploração inicial para entender a estrutura e conteúdo do conjunto de dados."
   ]
  },
  {
   "cell_type": "code",
   "execution_count": 32,
   "id": "8a1b6868-8a69-456e-9870-2d6c1bbaa522",
   "metadata": {},
   "outputs": [],
   "source": [
    "#Vizualização do Banco de dados\n",
    "dados = pd.read_csv('Mall_Customers.csv')"
   ]
  },
  {
   "cell_type": "code",
   "execution_count": 33,
   "id": "2c3abd5c-ffc1-449d-bac9-9f39ce1873ff",
   "metadata": {},
   "outputs": [
    {
     "data": {
      "text/html": [
       "<div>\n",
       "<style scoped>\n",
       "    .dataframe tbody tr th:only-of-type {\n",
       "        vertical-align: middle;\n",
       "    }\n",
       "\n",
       "    .dataframe tbody tr th {\n",
       "        vertical-align: top;\n",
       "    }\n",
       "\n",
       "    .dataframe thead th {\n",
       "        text-align: right;\n",
       "    }\n",
       "</style>\n",
       "<table border=\"1\" class=\"dataframe\">\n",
       "  <thead>\n",
       "    <tr style=\"text-align: right;\">\n",
       "      <th></th>\n",
       "      <th>CustomerID</th>\n",
       "      <th>Gender</th>\n",
       "      <th>Age</th>\n",
       "      <th>Annual Income (k$)</th>\n",
       "      <th>Spending Score (1-100)</th>\n",
       "    </tr>\n",
       "  </thead>\n",
       "  <tbody>\n",
       "    <tr>\n",
       "      <th>0</th>\n",
       "      <td>1</td>\n",
       "      <td>Male</td>\n",
       "      <td>19</td>\n",
       "      <td>15</td>\n",
       "      <td>39</td>\n",
       "    </tr>\n",
       "    <tr>\n",
       "      <th>1</th>\n",
       "      <td>2</td>\n",
       "      <td>Male</td>\n",
       "      <td>21</td>\n",
       "      <td>15</td>\n",
       "      <td>81</td>\n",
       "    </tr>\n",
       "    <tr>\n",
       "      <th>2</th>\n",
       "      <td>3</td>\n",
       "      <td>Female</td>\n",
       "      <td>20</td>\n",
       "      <td>16</td>\n",
       "      <td>6</td>\n",
       "    </tr>\n",
       "    <tr>\n",
       "      <th>3</th>\n",
       "      <td>4</td>\n",
       "      <td>Female</td>\n",
       "      <td>23</td>\n",
       "      <td>16</td>\n",
       "      <td>77</td>\n",
       "    </tr>\n",
       "    <tr>\n",
       "      <th>4</th>\n",
       "      <td>5</td>\n",
       "      <td>Female</td>\n",
       "      <td>31</td>\n",
       "      <td>17</td>\n",
       "      <td>40</td>\n",
       "    </tr>\n",
       "  </tbody>\n",
       "</table>\n",
       "</div>"
      ],
      "text/plain": [
       "   CustomerID  Gender  Age  Annual Income (k$)  Spending Score (1-100)\n",
       "0           1    Male   19                  15                      39\n",
       "1           2    Male   21                  15                      81\n",
       "2           3  Female   20                  16                       6\n",
       "3           4  Female   23                  16                      77\n",
       "4           5  Female   31                  17                      40"
      ]
     },
     "execution_count": 33,
     "metadata": {},
     "output_type": "execute_result"
    }
   ],
   "source": [
    "dados.head()"
   ]
  },
  {
   "cell_type": "markdown",
   "id": "d5594172-e803-4ab9-bd69-09acd9854413",
   "metadata": {},
   "source": [
    "### Explicação do processo:\n",
    "O comando `pd.read_csv('Mall_Customers.csv')` carrega o arquivo CSV chamado \"Mall_Customers.csv\" em um DataFrame do pandas chamado \"dados\". Este arquivo contém informações sobre os clientes de um shopping mall.\n",
    "Em seguida, o método `head()` é utilizado para visualizar as primeiras 5 linhas do DataFrame, o que permite uma rápida inspeção da estrutura dos dados. A saída mostra que o conjunto de dados contém as seguintes colunas:\n",
    "\n",
    "- **CustomerID**: Identificador único para cada cliente\n",
    "- **Gender**: Gênero do cliente (Male/Female)\n",
    "- **Age**: Idade do cliente\n",
    "- **Annual Income (k$)**: Renda anual em milhares de dólares\n",
    "- **Spending Score (1-100)**: Pontuação de gastos em uma escala de 1 a 100\n",
    "\n",
    "Esta visualização inicial é crucial para entender a estrutura dos dados antes de prosseguir com análises mais complexas. Podemos observar que os dados estão bem estruturados, com cada linha representando um cliente e cada coluna representando um atributo específico desse cliente.\n",
    "A exploração inicial dos dados é um passo fundamental em qualquer projeto de análise de dados, pois permite ao analista entender a natureza dos dados com os quais está trabalhando e planejar as etapas subsequentes da análise de forma mais eficaz.\n",
    "\n",
    "### **Seção 3: Limpeza e Detecção de Outliers**\n",
    "Esta seção do notebook é dedicada à detecção e análise de outliers (valores atípicos) nas variáveis alvo que serão utilizadas para a segmentação de clientes: `Annual Income (k$)` e `Spending Score (1-100)`.\n",
    "\n",
    "### Explicação da metodologia de detecção de outliers\n",
    "O notebook apresenta uma explicação detalhada sobre como detectar outliers usando o método da **Amplitude Inter-Quartil (AIQ/IQR)**. Este método classifica os outliers em duas categorias:\n",
    "\n",
    "### Outliers moderados:\n",
    "\n",
    "- Valores abaixo de: Q1 - 1,5*AIQ\n",
    "- Valores acima de: Q3 + 1,5*AIQ\n",
    "\n",
    "### Outliers extremos:\n",
    "\n",
    "- Valores abaixo de: Q1 - 3*AIQ\n",
    "- Valores acima de: Q3 + 3*AIQ\n",
    "\n",
    "Onde:\n",
    "\n",
    "- Q1 é o primeiro quartil (25% dos dados estão abaixo dele)\n",
    "- Q3 é o terceiro quartil (75% dos dados estão abaixo dele)\n",
    "- AIQ = Q3 - Q1 (Amplitude Inter-Quartil)\n",
    "\n",
    "### Análise de outliers para Annual Income (k$)"
   ]
  },
  {
   "cell_type": "code",
   "execution_count": 34,
   "id": "796a19a5-5e21-4519-98b4-a1e4c6ff8e1f",
   "metadata": {},
   "outputs": [
    {
     "data": {
      "text/plain": [
       "<Axes: ylabel='Annual Income (k$)'>"
      ]
     },
     "execution_count": 34,
     "metadata": {},
     "output_type": "execute_result"
    },
    {
     "data": {
      "image/png": "[encoded data removed]",
      "text/plain": [
       "<Figure size 432x288 with 1 Axes>"
      ]
     },
     "metadata": {
      "needs_background": "light"
     },
     "output_type": "display_data"
    }
   ],
   "source": [
    "#Detectar outliers por meio do boxplot\n",
    "sn.boxplot(dados['Annual Income (k$)'])"
   ]
  },
  {
   "cell_type": "markdown",
   "id": "43e7468e-5de1-405e-aba3-5bc0bbc7c989",
   "metadata": {},
   "source": [
    "O boxplot é uma ferramenta visual eficaz para identificar outliers. A visualização mostra a distribuição da renda anual dos clientes e destaca possíveis valores atípicos."
   ]
  },
  {
   "cell_type": "code",
   "execution_count": 35,
   "id": "3488c6f0-be30-496e-9f6e-8cd728579cdc",
   "metadata": {},
   "outputs": [
    {
     "data": {
      "text/plain": [
       "count    200.000000\n",
       "mean      60.560000\n",
       "std       26.264721\n",
       "min       15.000000\n",
       "25%       41.500000\n",
       "50%       61.500000\n",
       "75%       78.000000\n",
       "max      137.000000\n",
       "Name: Annual Income (k$), dtype: float64"
      ]
     },
     "execution_count": 35,
     "metadata": {},
     "output_type": "execute_result"
    }
   ],
   "source": [
    "#Detectar outliers moderados e extremos\n",
    "dados['Annual Income (k$)'].describe()"
   ]
  },
  {
   "cell_type": "markdown",
   "id": "93515a3c-ba37-4621-893e-666e2fed9e52",
   "metadata": {},
   "source": [
    "A função `describe()` fornece estatísticas descritivas da variável, incluindo os quartis necessários para o cálculo de outliers:\n",
    "\n",
    "- 25% (Q1): 41.5\n",
    "- 75% (Q3): 78.0"
   ]
  },
  {
   "cell_type": "code",
   "execution_count": 36,
   "id": "131e3f11-838d-4365-815e-930e104dc0c4",
   "metadata": {},
   "outputs": [
    {
     "data": {
      "text/plain": [
       "187.5"
      ]
     },
     "execution_count": 36,
     "metadata": {},
     "output_type": "execute_result"
    }
   ],
   "source": [
    "AIQ = 78 - 41.5\n",
    "AIQ = 3*AIQ\n",
    "outlier = 78 + AIQ\n",
    "outlier"
   ]
  },
  {
   "cell_type": "markdown",
   "id": "0471f753-2f2a-41af-97b2-253b65c55f71",
   "metadata": {},
   "source": [
    "Aqui, o código calcula o limite para outliers extremos:\n",
    "\n",
    "- AIQ = 78 - 41.5 = 36.5\n",
    "- AIQ para outliers extremos = 3 * 36.5 = 109.5\n",
    "- Limite superior para outliers extremos = 78 + 109.5 = 187.5\n",
    "\n",
    "Como o valor máximo de Annual Income (137) é menor que 187.5, não há outliers extremos nesta variável.\n",
    "\n",
    "### Análise de outliers para Spending Score (1-100)"
   ]
  },
  {
   "cell_type": "code",
   "execution_count": 37,
   "id": "9b34f9f8-fd71-423d-91c7-a906e0bcdd92",
   "metadata": {},
   "outputs": [
    {
     "data": {
      "text/plain": [
       "<Axes: ylabel='Spending Score (1-100)'>"
      ]
     },
     "execution_count": 37,
     "metadata": {},
     "output_type": "execute_result"
    },
    {
     "data": {
      "image/png": "[encoded data removed]",
      "text/plain": [
       "<Figure size 432x288 with 1 Axes>"
      ]
     },
     "metadata": {
      "needs_background": "light"
     },
     "output_type": "display_data"
    }
   ],
   "source": [
    "sn.boxplot(dados['Spending Score (1-100)'])"
   ]
  },
  {
   "cell_type": "markdown",
   "id": "15fadab3-0582-4b8b-a0ad-9b32e952fe67",
   "metadata": {},
   "source": [
    "De forma similar, o boxplot para Spending Score é utilizado para visualizar a distribuição e identificar possíveis outliers.\n",
    "A conclusão desta seção é que não foram detectados outliers extremos em nenhuma das duas variáveis analisadas, portanto não foi necessário realizar tratamento de outliers. Esta é uma informação importante, pois indica que os dados estão relativamente bem distribuídos e não há valores que possam distorcer significativamente os resultados da análise de agrupamento.\n",
    "\n",
    "### **Seção 4: Preparação dos Dados para Agrupamento**\n",
    "Nesta seção, o notebook realiza a preparação dos dados para a análise de agrupamento hierárquico. A preparação adequada dos dados é crucial para obter resultados significativos em algoritmos de agrupamento.\n",
    "\n",
    "### Teste de Normalidade"
   ]
  },
  {
   "cell_type": "code",
   "execution_count": 38,
   "id": "b28ff88a-9848-48fc-92c0-124abeac2713",
   "metadata": {},
   "outputs": [
    {
     "data": {
      "text/plain": [
       "<Axes: xlabel='Annual Income (k$)', ylabel='Density'>"
      ]
     },
     "execution_count": 38,
     "metadata": {},
     "output_type": "execute_result"
    },
    {
     "data": {
      "image/png": "[encoded data removed]",
      "text/plain": [
       "<Figure size 432x288 with 1 Axes>"
      ]
     },
     "metadata": {
      "needs_background": "light"
     },
     "output_type": "display_data"
    }
   ],
   "source": [
    "sn.distplot(dados['Annual Income (k$)'])"
   ]
  },
  {
   "cell_type": "code",
   "execution_count": 39,
   "id": "f116f422-a412-44f5-95bc-6ff31d684a4a",
   "metadata": {},
   "outputs": [
    {
     "data": {
      "text/plain": [
       "0.6006202059235106"
      ]
     },
     "execution_count": 39,
     "metadata": {},
     "output_type": "execute_result"
    }
   ],
   "source": [
    "pvalue = st.teste_normalidade_ks(dados, colunas=['Annual Income (k$)'])\n",
    "pvalue['Annual Income (k$)']"
   ]
  },
  {
   "cell_type": "markdown",
   "id": "5a5670a4-d6f6-4709-8341-e7bc9794fa4b",
   "metadata": {},
   "source": [
    "Aqui, é realizado um teste de normalidade Kolmogorov-Smirnov para verificar se a variável `Annual Income (k$)` segue uma distribuição normal. O p-value resultante (0.6006) é maior que 0.05, o que indica que não podemos rejeitar a hipótese nula de que os dados seguem uma distribuição normal."
   ]
  },
  {
   "cell_type": "code",
   "execution_count": 40,
   "id": "c6c0b676-56a3-4080-a677-d95d659c0ba1",
   "metadata": {},
   "outputs": [
    {
     "data": {
      "text/plain": [
       "<Axes: xlabel='Spending Score (1-100)', ylabel='Density'>"
      ]
     },
     "execution_count": 40,
     "metadata": {},
     "output_type": "execute_result"
    },
    {
     "data": {
      "image/png": "[encoded data removed]",
      "text/plain": [
       "<Figure size 432x288 with 1 Axes>"
      ]
     },
     "metadata": {
      "needs_background": "light"
     },
     "output_type": "display_data"
    }
   ],
   "source": [
    "sn.distplot(dados['Spending Score (1-100)'])"
   ]
  },
  {
   "cell_type": "code",
   "execution_count": 41,
   "id": "f4895671-3c66-4c60-95b6-5d2754681750",
   "metadata": {},
   "outputs": [
    {
     "data": {
      "text/plain": [
       "0.3273645952589408"
      ]
     },
     "execution_count": 41,
     "metadata": {},
     "output_type": "execute_result"
    }
   ],
   "source": [
    "pvalue = st.teste_normalidade_ks(dados, ['Spending Score (1-100)'])\n",
    "pvalue['Spending Score (1-100)']"
   ]
  },
  {
   "cell_type": "markdown",
   "id": "979c0b28-a75a-40fd-8754-f5625ade7e2d",
   "metadata": {},
   "source": [
    "Aqui, é realizado um teste de normalidade Kolmogorov-Smirnov para verificar se a variável `Spending Score (1-100)` segue uma distribuição normal. O p-value resultante (0.3273) é maior que 0.05, o que indica que não podemos rejeitar a hipótese nula de que os dados seguem uma distribuição normal.\n",
    "\n",
    "### Seleção das Variáveis Alvo"
   ]
  },
  {
   "cell_type": "code",
   "execution_count": 42,
   "id": "17c6a550-74bb-4972-be51-f656fc9c0aca",
   "metadata": {},
   "outputs": [],
   "source": [
    "colunasAlvos = dados[['Annual Income (k$)','Spending Score (1-100)']]"
   ]
  },
  {
   "cell_type": "code",
   "execution_count": 43,
   "id": "56999d52-6b7e-4417-833e-f93e86266e0f",
   "metadata": {},
   "outputs": [
    {
     "data": {
      "text/html": [
       "<div>\n",
       "<style scoped>\n",
       "    .dataframe tbody tr th:only-of-type {\n",
       "        vertical-align: middle;\n",
       "    }\n",
       "\n",
       "    .dataframe tbody tr th {\n",
       "        vertical-align: top;\n",
       "    }\n",
       "\n",
       "    .dataframe thead th {\n",
       "        text-align: right;\n",
       "    }\n",
       "</style>\n",
       "<table border=\"1\" class=\"dataframe\">\n",
       "  <thead>\n",
       "    <tr style=\"text-align: right;\">\n",
       "      <th></th>\n",
       "      <th>Annual Income (k$)</th>\n",
       "      <th>Spending Score (1-100)</th>\n",
       "    </tr>\n",
       "  </thead>\n",
       "  <tbody>\n",
       "    <tr>\n",
       "      <th>0</th>\n",
       "      <td>15</td>\n",
       "      <td>39</td>\n",
       "    </tr>\n",
       "    <tr>\n",
       "      <th>1</th>\n",
       "      <td>15</td>\n",
       "      <td>81</td>\n",
       "    </tr>\n",
       "    <tr>\n",
       "      <th>2</th>\n",
       "      <td>16</td>\n",
       "      <td>6</td>\n",
       "    </tr>\n",
       "    <tr>\n",
       "      <th>3</th>\n",
       "      <td>16</td>\n",
       "      <td>77</td>\n",
       "    </tr>\n",
       "    <tr>\n",
       "      <th>4</th>\n",
       "      <td>17</td>\n",
       "      <td>40</td>\n",
       "    </tr>\n",
       "  </tbody>\n",
       "</table>\n",
       "</div>"
      ],
      "text/plain": [
       "   Annual Income (k$)  Spending Score (1-100)\n",
       "0                  15                      39\n",
       "1                  15                      81\n",
       "2                  16                       6\n",
       "3                  16                      77\n",
       "4                  17                      40"
      ]
     },
     "execution_count": 43,
     "metadata": {},
     "output_type": "execute_result"
    }
   ],
   "source": [
    "colunasAlvos.head()"
   ]
  },
  {
   "cell_type": "markdown",
   "id": "b8bfd305-fd8b-42a5-ad42-0a9f52ebb4c6",
   "metadata": {},
   "source": [
    "Nesta etapa, são selecionadas as duas variáveis que serão utilizadas para o agrupamento: `Annual Income (k$)` e `Spending Score (1-100)`. Estas variáveis foram escolhidas porque representam aspectos importantes do comportamento de compra dos clientes - quanto eles ganham e quanto eles gastam.\n",
    "\n",
    "### Normalização dos Dados com Z-Score"
   ]
  },
  {
   "cell_type": "code",
   "execution_count": 44,
   "id": "72aedd2b-e416-48ac-a76a-f4192eaa570e",
   "metadata": {},
   "outputs": [],
   "source": [
    "colunasAlvos = zscore(colunasAlvos)"
   ]
  },
  {
   "cell_type": "markdown",
   "id": "9838b298-3d6e-4c4d-9c94-2726446f9017",
   "metadata": {},
   "source": [
    "A normalização dos dados é um passo essencial antes de aplicar algoritmos de agrupamento. O método Z-Score transforma os dados para que tenham média 0 e desvio padrão 1. Isso é importante porque:\n",
    "\n",
    "- Elimina o efeito de diferentes escalas entre as variáveis\n",
    "- Garante que todas as variáveis contribuam igualmente para o processo de agrupamento\n",
    "- Melhora a performance e a interpretabilidade dos resultados\n",
    "\n",
    "Após a normalização, podemos ver que os valores foram transformados:"
   ]
  },
  {
   "cell_type": "code",
   "execution_count": 45,
   "id": "a5a29720-29db-4ffd-80b1-0ef41d72dfaa",
   "metadata": {},
   "outputs": [
    {
     "data": {
      "text/html": [
       "<div>\n",
       "<style scoped>\n",
       "    .dataframe tbody tr th:only-of-type {\n",
       "        vertical-align: middle;\n",
       "    }\n",
       "\n",
       "    .dataframe tbody tr th {\n",
       "        vertical-align: top;\n",
       "    }\n",
       "\n",
       "    .dataframe thead th {\n",
       "        text-align: right;\n",
       "    }\n",
       "</style>\n",
       "<table border=\"1\" class=\"dataframe\">\n",
       "  <thead>\n",
       "    <tr style=\"text-align: right;\">\n",
       "      <th></th>\n",
       "      <th>Annual Income (k$)</th>\n",
       "      <th>Spending Score (1-100)</th>\n",
       "    </tr>\n",
       "  </thead>\n",
       "  <tbody>\n",
       "    <tr>\n",
       "      <th>0</th>\n",
       "      <td>-1.738999</td>\n",
       "      <td>-0.434801</td>\n",
       "    </tr>\n",
       "    <tr>\n",
       "      <th>1</th>\n",
       "      <td>-1.738999</td>\n",
       "      <td>1.195704</td>\n",
       "    </tr>\n",
       "    <tr>\n",
       "      <th>2</th>\n",
       "      <td>-1.700830</td>\n",
       "      <td>-1.715913</td>\n",
       "    </tr>\n",
       "    <tr>\n",
       "      <th>3</th>\n",
       "      <td>-1.700830</td>\n",
       "      <td>1.040418</td>\n",
       "    </tr>\n",
       "    <tr>\n",
       "      <th>4</th>\n",
       "      <td>-1.662660</td>\n",
       "      <td>-0.395980</td>\n",
       "    </tr>\n",
       "  </tbody>\n",
       "</table>\n",
       "</div>"
      ],
      "text/plain": [
       "   Annual Income (k$)  Spending Score (1-100)\n",
       "0           -1.738999               -0.434801\n",
       "1           -1.738999                1.195704\n",
       "2           -1.700830               -1.715913\n",
       "3           -1.700830                1.040418\n",
       "4           -1.662660               -0.395980"
      ]
     },
     "execution_count": 45,
     "metadata": {},
     "output_type": "execute_result"
    }
   ],
   "source": [
    "colunasAlvos.head()"
   ]
  },
  {
   "cell_type": "markdown",
   "id": "25575245-8c24-4239-a12c-e38a2793cd41",
   "metadata": {},
   "source": [
    "### Renomeação das Colunas Normalizadas"
   ]
  },
  {
   "cell_type": "code",
   "execution_count": 46,
   "id": "3c190bab-bd1f-4545-9b62-499b38bf648b",
   "metadata": {},
   "outputs": [],
   "source": [
    "colunasAlvos = colunasAlvos.rename(columns={'Annual Income (k$)':'Annual Income (k$) (zscore)', \n",
    "                                            'Spending Score (1-100)':'Spending Score (1-100) (zscore)'})"
   ]
  },
  {
   "cell_type": "markdown",
   "id": "60211699-f423-4b5c-8037-bab3aaedcb4b",
   "metadata": {},
   "source": [
    "As colunas são renomeadas para indicar claramente que contêm valores normalizados pelo método Z-Score.\n",
    "\n",
    "### Concatenação com o DataFrame Original"
   ]
  },
  {
   "cell_type": "code",
   "execution_count": 47,
   "id": "29ef2b4c-c175-41ce-9ba0-6d7fd383d7d8",
   "metadata": {},
   "outputs": [],
   "source": [
    "dados = pd.concat([dados, colunasAlvos], axis=1)"
   ]
  },
  {
   "cell_type": "code",
   "execution_count": 48,
   "id": "02882fa4-c958-4a8a-bd29-9a2166746cb7",
   "metadata": {},
   "outputs": [
    {
     "data": {
      "text/html": [
       "<div>\n",
       "<style scoped>\n",
       "    .dataframe tbody tr th:only-of-type {\n",
       "        vertical-align: middle;\n",
       "    }\n",
       "\n",
       "    .dataframe tbody tr th {\n",
       "        vertical-align: top;\n",
       "    }\n",
       "\n",
       "    .dataframe thead th {\n",
       "        text-align: right;\n",
       "    }\n",
       "</style>\n",
       "<table border=\"1\" class=\"dataframe\">\n",
       "  <thead>\n",
       "    <tr style=\"text-align: right;\">\n",
       "      <th></th>\n",
       "      <th>CustomerID</th>\n",
       "      <th>Gender</th>\n",
       "      <th>Age</th>\n",
       "      <th>Annual Income (k$)</th>\n",
       "      <th>Spending Score (1-100)</th>\n",
       "      <th>Annual Income (k$) (zscore)</th>\n",
       "      <th>Spending Score (1-100) (zscore)</th>\n",
       "    </tr>\n",
       "  </thead>\n",
       "  <tbody>\n",
       "    <tr>\n",
       "      <th>0</th>\n",
       "      <td>1</td>\n",
       "      <td>Male</td>\n",
       "      <td>19</td>\n",
       "      <td>15</td>\n",
       "      <td>39</td>\n",
       "      <td>-1.738999</td>\n",
       "      <td>-0.434801</td>\n",
       "    </tr>\n",
       "    <tr>\n",
       "      <th>1</th>\n",
       "      <td>2</td>\n",
       "      <td>Male</td>\n",
       "      <td>21</td>\n",
       "      <td>15</td>\n",
       "      <td>81</td>\n",
       "      <td>-1.738999</td>\n",
       "      <td>1.195704</td>\n",
       "    </tr>\n",
       "    <tr>\n",
       "      <th>2</th>\n",
       "      <td>3</td>\n",
       "      <td>Female</td>\n",
       "      <td>20</td>\n",
       "      <td>16</td>\n",
       "      <td>6</td>\n",
       "      <td>-1.700830</td>\n",
       "      <td>-1.715913</td>\n",
       "    </tr>\n",
       "    <tr>\n",
       "      <th>3</th>\n",
       "      <td>4</td>\n",
       "      <td>Female</td>\n",
       "      <td>23</td>\n",
       "      <td>16</td>\n",
       "      <td>77</td>\n",
       "      <td>-1.700830</td>\n",
       "      <td>1.040418</td>\n",
       "    </tr>\n",
       "    <tr>\n",
       "      <th>4</th>\n",
       "      <td>5</td>\n",
       "      <td>Female</td>\n",
       "      <td>31</td>\n",
       "      <td>17</td>\n",
       "      <td>40</td>\n",
       "      <td>-1.662660</td>\n",
       "      <td>-0.395980</td>\n",
       "    </tr>\n",
       "  </tbody>\n",
       "</table>\n",
       "</div>"
      ],
      "text/plain": [
       "   CustomerID  Gender  Age  Annual Income (k$)  Spending Score (1-100)  \\\n",
       "0           1    Male   19                  15                      39   \n",
       "1           2    Male   21                  15                      81   \n",
       "2           3  Female   20                  16                       6   \n",
       "3           4  Female   23                  16                      77   \n",
       "4           5  Female   31                  17                      40   \n",
       "\n",
       "   Annual Income (k$) (zscore)  Spending Score (1-100) (zscore)  \n",
       "0                    -1.738999                        -0.434801  \n",
       "1                    -1.738999                         1.195704  \n",
       "2                    -1.700830                        -1.715913  \n",
       "3                    -1.700830                         1.040418  \n",
       "4                    -1.662660                        -0.395980  "
      ]
     },
     "execution_count": 48,
     "metadata": {},
     "output_type": "execute_result"
    }
   ],
   "source": [
    "dados.head()"
   ]
  },
  {
   "cell_type": "markdown",
   "id": "061a8def-3e9e-46c1-8758-2f082f04b86d",
   "metadata": {},
   "source": [
    "Finalmente, as colunas normalizadas são adicionadas ao DataFrame original, mantendo todas as informações em um único conjunto de dados. Isso permite comparar facilmente os valores originais com os valores normalizados e facilita a análise posterior.\n",
    "Esta etapa de preparação dos dados é fundamental para garantir que o algoritmo de agrupamento hierárquico funcione corretamente e produza resultados interpretáveis e úteis para a segmentação de clientes.\n",
    "\n",
    "### **Seção 5: Análise de Agrupamento Hierárquico**\n",
    "Esta seção aborda a implementação do algoritmo de agrupamento hierárquico para segmentar os clientes em grupos com características similares.\n",
    "\n",
    "## Conceito de Agrupamento Hierárquico\n",
    "O agrupamento hierárquico é uma técnica de aprendizado não supervisionado que agrupa dados semelhantes em clusters. Diferentemente de outros métodos como K-means, o agrupamento hierárquico não requer que o número de clusters seja especificado antecipadamente. Em vez disso, ele cria uma hierarquia de clusters que pode ser visualizada como um dendrograma.\n",
    "\n",
    "## Implementação no Notebook\n",
    "No notebook, o agrupamento hierárquico é implementado utilizando a função personalizada `agrupamento_hierarquico()` do módulo **estatistica.py**. Esta função oferece várias opções para personalizar o processo de agrupamento:"
   ]
  },
  {
   "cell_type": "code",
   "execution_count": 49,
   "id": "3d2f3430-54c8-434f-90f2-19323705fdcb",
   "metadata": {},
   "outputs": [
    {
     "data": {
      "image/png": "[encoded data removed]",
      "text/plain": [
       "<Figure size 864x432 with 1 Axes>"
      ]
     },
     "metadata": {
      "needs_background": "light"
     },
     "output_type": "display_data"
    },
    {
     "name": "stdout",
     "output_type": "stream",
     "text": [
      "Clusters formados: 7\n"
     ]
    },
    {
     "data": {
      "text/plain": [
       "array([3, 1, 3, 1, 3, 1, 3, 1, 3, 1, 3, 1, 3, 1, 3, 1, 3, 1, 3, 1, 3, 1,\n",
       "       3, 1, 3, 1, 3, 1, 3, 1, 3, 1, 3, 1, 3, 1, 3, 1, 3, 1, 3, 1, 3, 2,\n",
       "       3, 2, 2, 2, 2, 2, 2, 2, 2, 2, 2, 2, 2, 2, 2, 2, 2, 2, 2, 2, 2, 2,\n",
       "       2, 2, 2, 2, 2, 2, 2, 2, 2, 2, 2, 2, 2, 2, 2, 2, 2, 2, 2, 2, 2, 2,\n",
       "       2, 2, 2, 2, 2, 2, 2, 2, 2, 2, 2, 2, 2, 2, 2, 2, 2, 2, 2, 2, 2, 2,\n",
       "       2, 2, 2, 2, 2, 2, 2, 2, 2, 2, 2, 2, 2, 7, 5, 7, 5, 7, 5, 7, 5, 7,\n",
       "       5, 7, 5, 7, 5, 7, 5, 7, 5, 7, 5, 7, 5, 7, 5, 7, 5, 7, 5, 7, 5, 7,\n",
       "       5, 7, 5, 7, 5, 7, 5, 7, 5, 7, 5, 7, 5, 7, 5, 7, 5, 7, 5, 7, 5, 7,\n",
       "       5, 7, 5, 7, 5, 7, 5, 7, 5, 7, 4, 7, 4, 7, 4, 7, 4, 7, 4, 6, 4, 6,\n",
       "       4, 6], dtype=int32)"
      ]
     },
     "execution_count": 49,
     "metadata": {},
     "output_type": "execute_result"
    }
   ],
   "source": [
    "st.agrupamento_hierarquico(dados, ['Annual Income (k$) (zscore)','Spending Score (1-100) (zscore)'],metodo='complete',distancia='euclidean',altura_corte=2,atribuir_ao_dataframe=None)"
   ]
  },
  {
   "cell_type": "markdown",
   "id": "760dc3e9-18b6-43a1-b8c9-3565a7bd2e9b",
   "metadata": {},
   "source": [
    "Parâmetros Importantes:\n",
    "\n",
    "- **Método de Linkage**: O método `complete` mede a distância entre dois grupos como a maior distância entre qualquer par de pontos, um de cada grupo.\n",
    "- **Métrica de Distância**: A distância euclidiana é a métrica padrão para dados contínuos como renda e pontuação de gastos.\n",
    "\n",
    "## Visualização e Interpretação dos Resultados\n",
    "Após a execução do agrupamento, os resultados são visualizados de duas formas principais:\n",
    "- **Dendrograma**: Mostra a hierarquia dos clusters e como os dados são agrupados em diferentes níveis. A altura das linhas no dendrograma representa a distância entre os clusters.\n",
    "- **Gráfico de Dispersão com Clusters**: Visualiza os clientes no espaço bidimensional de renda anual e pontuação de gastos, coloridos de acordo com seus clusters atribuídos."
   ]
  },
  {
   "cell_type": "code",
   "execution_count": 50,
   "id": "dc440378-8251-45f3-ad97-608125d3062d",
   "metadata": {},
   "outputs": [
    {
     "data": {
      "image/png": "[encoded data removed]",
      "text/plain": [
       "<Figure size 720x432 with 1 Axes>"
      ]
     },
     "metadata": {
      "needs_background": "light"
     },
     "output_type": "display_data"
    }
   ],
   "source": [
    "model = st.kmeans_cluster_plot(dados, 'Annual Income (k$) (zscore)','Spending Score (1-100) (zscore)',n_clusters=7, add_cluster_column=True)"
   ]
  },
  {
   "cell_type": "code",
   "execution_count": 51,
   "id": "1d992d85-043f-43ab-94b8-4f2bb6a0811b",
   "metadata": {},
   "outputs": [
    {
     "data": {
      "text/html": [
       "<div>\n",
       "<style scoped>\n",
       "    .dataframe tbody tr th:only-of-type {\n",
       "        vertical-align: middle;\n",
       "    }\n",
       "\n",
       "    .dataframe tbody tr th {\n",
       "        vertical-align: top;\n",
       "    }\n",
       "\n",
       "    .dataframe thead th {\n",
       "        text-align: right;\n",
       "    }\n",
       "</style>\n",
       "<table border=\"1\" class=\"dataframe\">\n",
       "  <thead>\n",
       "    <tr style=\"text-align: right;\">\n",
       "      <th></th>\n",
       "      <th>CustomerID</th>\n",
       "      <th>Gender</th>\n",
       "      <th>Age</th>\n",
       "      <th>Annual Income (k$)</th>\n",
       "      <th>Spending Score (1-100)</th>\n",
       "      <th>cluster</th>\n",
       "    </tr>\n",
       "  </thead>\n",
       "  <tbody>\n",
       "    <tr>\n",
       "      <th>0</th>\n",
       "      <td>1</td>\n",
       "      <td>Male</td>\n",
       "      <td>19</td>\n",
       "      <td>15</td>\n",
       "      <td>39</td>\n",
       "      <td>5</td>\n",
       "    </tr>\n",
       "    <tr>\n",
       "      <th>1</th>\n",
       "      <td>2</td>\n",
       "      <td>Male</td>\n",
       "      <td>21</td>\n",
       "      <td>15</td>\n",
       "      <td>81</td>\n",
       "      <td>2</td>\n",
       "    </tr>\n",
       "    <tr>\n",
       "      <th>2</th>\n",
       "      <td>3</td>\n",
       "      <td>Female</td>\n",
       "      <td>20</td>\n",
       "      <td>16</td>\n",
       "      <td>6</td>\n",
       "      <td>4</td>\n",
       "    </tr>\n",
       "    <tr>\n",
       "      <th>3</th>\n",
       "      <td>4</td>\n",
       "      <td>Female</td>\n",
       "      <td>23</td>\n",
       "      <td>16</td>\n",
       "      <td>77</td>\n",
       "      <td>2</td>\n",
       "    </tr>\n",
       "    <tr>\n",
       "      <th>4</th>\n",
       "      <td>5</td>\n",
       "      <td>Female</td>\n",
       "      <td>31</td>\n",
       "      <td>17</td>\n",
       "      <td>40</td>\n",
       "      <td>5</td>\n",
       "    </tr>\n",
       "  </tbody>\n",
       "</table>\n",
       "</div>"
      ],
      "text/plain": [
       "   CustomerID  Gender  Age  Annual Income (k$)  Spending Score (1-100)  \\\n",
       "0           1    Male   19                  15                      39   \n",
       "1           2    Male   21                  15                      81   \n",
       "2           3  Female   20                  16                       6   \n",
       "3           4  Female   23                  16                      77   \n",
       "4           5  Female   31                  17                      40   \n",
       "\n",
       "   cluster  \n",
       "0        5  \n",
       "1        2  \n",
       "2        4  \n",
       "3        2  \n",
       "4        5  "
      ]
     },
     "execution_count": 51,
     "metadata": {},
     "output_type": "execute_result"
    }
   ],
   "source": [
    "dados = dados.drop(columns=['Annual Income (k$) (zscore)','Spending Score (1-100) (zscore)'])\n",
    "dados.head()"
   ]
  },
  {
   "cell_type": "markdown",
   "id": "f4a5e4e6-c22b-405a-87e3-76ae50170261",
   "metadata": {},
   "source": [
    "## **Seção 6: Interpretação dos Segmentos de Clientes**\n",
    "Após a segmentação, cada cluster é analisado para identificar suas características distintivas:\n",
    "\n",
    "- **Cluster 0**: Clientes com renda razoável e comportamento de consumo equilibrado. Compram com frequência moderada e tendem a ser estáveis. - \"Consumidores Moderados\"\n",
    "- **Cluster 1**: Clientes de alta renda e alto engajamento. São os mais valiosos para a empresa — gastam bem e frequentemente. Devem ser prioridade em campanhas VIP ou de fidelização. - \"Clientes Premium\"\n",
    "- **Cluster 2**: Apesar da renda baixa, são muito engajados. Possivelmente veem valor nos produtos ou são muito fiéis. Podem ser bons alvos para programas de fidelidade e promoções acessíveis. - \"Compradores Entusiasmados\"\n",
    "- **Cluster 3**: Ganham bem, mas não gastam na loja. Talvez não vejam valor nos produtos ou não estejam bem segmentados. Ótimos candidatos para campanhas de reconquista ou personalização. - \"Potenciais Perdidos\"\n",
    "- **Cluster 4**: Pouco engajados e com baixo poder de compra. Não são prioridade no momento, mas podem ser explorados com ofertas muito acessíveis ou campanhas locais. - \"Clientes Desconectados\"\n",
    "- **Cluster 5**: Compram de forma consciente e limitada. Costumam responder bem a promoções e cupons. Um público bom para ações promocionais específicas. - \"Consumidores Econômicos\"\n",
    "- **Cluster 6**: Clientes com boa renda e alto engajamento - \"Fieis de Classe Média\"\n",
    "\n",
    "Esta segmentação permite que a equipe de marketing desenvolva estratégias personalizadas para cada grupo, maximizando o retorno sobre o investimento em campanhas de marketing.\n",
    "\n",
    "## **Seção 7: Estratégias de Marketing Baseadas em Segmentação**\n",
    "\n",
    "Esta seção explora como utilizar os resultados da segmentação de clientes para desenvolver estratégias de marketing personalizadas e eficazes para cada grupo identificado.\n",
    "\n",
    "## Aplicação Prática da Segmentação de Clientes\n",
    "A segmentação de clientes não é apenas um exercício analítico, mas uma ferramenta estratégica poderosa que permite às empresas:\n",
    "\n",
    "- Personalizar comunicações e ofertas\n",
    "- Alocar recursos de marketing de forma mais eficiente\n",
    "- Desenvolver produtos e serviços direcionados\n",
    "- Melhorar a experiência do cliente e aumentar a fidelidade\n",
    "\n",
    "## Estratégias para Cada Segmento\n",
    "\n",
    "Baseado na segmentação realizada no notebook, podemos desenvolver estratégias específicas para cada cluster identificado:\n",
    "\n",
    "## Cluster 0: Consumidores Moderados\n",
    "**Perfil**: Clientes com renda razoável e comportamento de consumo equilibrado. Compram com frequência moderada e tendem a ser estáveis:\n",
    "\n",
    "- Oferecer combos promocionais ou benefícios progressivos para estimular aumento de ticket médio.\n",
    "\n",
    "## Cluster 1: Clientes Premium\n",
    "**Perfil**: Clientes de alta renda e alto engajamento. São os mais valiosos para a empresa — gastam bem e frequentemente. Devem ser prioridade em campanhas VIP ou de fidelização.\n",
    "\n",
    "- Criar um programa de fidelidade VIP, acesso antecipado a novos produtos, e comunicação personalizada.\n",
    "\n",
    "## Cluster 2: Compradores Entusiasmados\n",
    "**Perfil**: Apesar da renda baixa, são muito engajados. Possivelmente veem valor nos produtos ou são muito fiéis. Podem ser bons alvos para programas de fidelidade e promoções acessíveis.\n",
    "\n",
    "- Desenvolver promoções acessíveis e descontos progressivos, além de reconhecer a lealdade com brindes.\n",
    "\n",
    "\n",
    "## Cluster 3: Potenciais Perdidos\n",
    "**Perfil**: Ganham bem, mas não gastam na loja. Talvez não vejam valor nos produtos ou não estejam bem segmentados. Ótimos candidatos para campanhas de reconquista ou personalização.\n",
    "\n",
    "- Investir em remarketing, pesquisas de satisfação e ações de reconquista com ofertas personalizadas.\n",
    "\n",
    "## Cluster 4: Clientes Desconectados\n",
    "\n",
    "**Perfil**: Pouco engajados e com baixo poder de compra. Não são prioridade no momento, mas podem ser explorados com ofertas muito acessíveis ou campanhas locais.\n",
    "\n",
    "- Aplicar campanhas educativas sobre os benefícios da marca e oferecer cupons agressivos de primeira compra.\n",
    "\n",
    "## Cluster 5: Consumidores Econômicos\n",
    "\n",
    "**Perfil**: Compram de forma consciente e limitada. Costumam responder bem a promoções e cupons. Um público bom para ações promocionais específicas.\n",
    "\n",
    "- Focar em ofertas-relâmpago, kits promocionais e parcelamentos atrativos.\n",
    "\n",
    "## Cluster 6: Fieis de Classe Média\n",
    "\n",
    "**Perfil**: Clientes com boa renda e alto engajamento\n",
    "\n",
    "- Recompensar com experiências exclusivas, descontos por indicação, e manter comunicação contínua.\n",
    "\n",
    "## **Implementação e Mensuração**\n",
    "Para implementar efetivamente estas estratégias, é importante:\n",
    "\n",
    "- **Estabelecer KPIs claros** para cada segmento\n",
    "- **Criar um plano de comunicação específico** para cada segmento\n",
    "- **Testar e otimizar** continuamente as abordagens através de testes A/B\n",
    "- **Monitorar a evolução dos segmentos** ao longo do tempo\n",
    "\n",
    "Criar um plano de comunicação específico para cada segmento\n",
    "Testar e otimizar continuamente as abordagens através de testes A/B\n",
    "Monitorar a evolução dos segmentos ao longo do tempo:"
   ]
  },
  {
   "cell_type": "code",
   "execution_count": null,
   "id": "aea4e505-f6ee-4d70-97ef-845c65bc7a17",
   "metadata": {},
   "outputs": [],
   "source": []
  }
 ],
 "metadata": {
  "kernelspec": {
   "display_name": "Python 3 (ipykernel)",
   "language": "python",
   "name": "python3"
  },
  "language_info": {
   "codemirror_mode": {
    "name": "ipython",
    "version": 3
   },
   "file_extension": ".py",
   "mimetype": "text/x-python",
   "name": "python",
   "nbconvert_exporter": "python",
   "pygments_lexer": "ipython3",
   "version": "3.10.13"
  }
 },
 "nbformat": 4,
 "nbformat_minor": 5
}
